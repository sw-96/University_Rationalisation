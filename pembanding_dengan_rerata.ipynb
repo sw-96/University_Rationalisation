{
 "cells": [
  {
   "cell_type": "markdown",
   "metadata": {},
   "source": [
    "##### Program untuk membandingkan nilai UTBK dengan nilai rerata tahun sebelumnya"
   ]
  },
  {
   "cell_type": "markdown",
   "metadata": {},
   "source": [
    "##### A. Mutable Part"
   ]
  },
  {
   "cell_type": "code",
   "execution_count": 9,
   "metadata": {},
   "outputs": [],
   "source": [
    "#Library\n",
    "import numpy as np\n",
    "import pandas as pd\n",
    "import mpu.pd\n",
    "import csv\n",
    "\n",
    "#===============================================================================================================================================================================================================================================================================================================================================\n",
    "\n",
    "#DATA SISWA\n",
    "#Input database siswa dengan nama file Data_Siswa_with_header.csv\n",
    "#Bagian ini dapat diubah tergantung nama filenya (selama format file csv)\n",
    "#Header(nama kolom) csv: Nama Siswa, Pilihan Universitas Pertama, Pilihan Program Studi Pertama, Pilihan Universitas Kedua, Pilihan Program Studi Kedua, Skor \n",
    "df_siswa = pd.read_csv('Data_Siswa_with_header_2.csv', delimiter = ',')\n",
    "\n",
    "#Mengubah data pada csv menjadi list of dictionary dalam python\n",
    "dic_siswa = df_siswa.to_dict('records')\n",
    "\n",
    "#DATA UNIVERSITAS\n",
    "#Input database universitas dengan nama file Data_Univ_2_with_header.csv\n",
    "#Bagian ini dapat diubah tergantung nama filenya (selama format file csv)\n",
    "#Header(nama kolom) csv: Universitas, Prodi, Jenjang, Nilai Rata-Rata UTBK\n",
    "df_univ = pd.read_csv('Database_Rerata_Quipper.csv', delimiter = ',')\n",
    "\n",
    "#Mengubah data csv menjadi list of dictionary dalam python\n",
    "dic_univ = df_univ.to_dict('records')\n",
    "\n",
    "#OUTPUT\n",
    "#Membuat file Hasil_Final.csv untuk menampung hasil pengolahan data\n",
    "#Nama file dapat diubah sesuai keinginan maupun kebutuhan\n",
    "nama_file_keluaran = 'Hasil_Final_2.csv'\n",
    "with open(nama_file_keluaran, 'w', newline = '') as file:\n",
    "    writer = csv.writer(file)\n",
    "    writer.writerow([\"Nama Siswa\", \"Skor\", \"Pilihan Universitas Pertama\", \"Pilihan Program Studi Pertama\", \"Nilai Rerata Pilihan Pertama Tahun Sebelumnya\", \"Perbandingan dengan Nilai Anda\", \"Pilihan Universitas Kedua\", \"Pilihan Program Studi Kedua\", \"Nilai Rerata Pilihan Kedua Tahun Sebelumnya\", \"Perbandingan dengan Nilai Anda\"])\n"
   ]
  },
  {
   "cell_type": "markdown",
   "metadata": {},
   "source": [
    "##### B. Immutable Part"
   ]
  },
  {
   "cell_type": "code",
   "execution_count": 10,
   "metadata": {},
   "outputs": [],
   "source": [
    "#Pengecekan pilihan universitas dan program studi\n",
    "\n",
    "for h in np.arange(len(dic_siswa)):\n",
    "    hasil = []\n",
    "    for i in np.arange(2):#Terdapat 2 buah pilihan\n",
    "        if i == 0: #Pilihan 1\n",
    "            for j in np.arange(len(dic_univ)):\n",
    "                if dic_siswa[h]['Pilihan Universitas Pertama'] == dic_univ[j]['Universitas'] and dic_siswa[h]['Pilihan Program Studi Pertama'] == dic_univ[j]['Prodi']:\n",
    "                    delta_nilai = round((dic_siswa[h]['Skor'] - dic_univ[j]['Nilai Rata-Rata UTBK'])*100/dic_univ[j]['Nilai Rata-Rata UTBK'], 2)\n",
    "                    hasil.append(dic_siswa[h]['Nama Siswa'])\n",
    "                    hasil.append(round(dic_siswa[h]['Skor'], 2))\n",
    "                    hasil.append(dic_univ[j]['Universitas'])\n",
    "                    hasil.append(dic_univ[j]['Prodi'])\n",
    "                    hasil.append(round(dic_univ[j]['Nilai Rata-Rata UTBK'], 2))\n",
    "\n",
    "                    if delta_nilai < 0:\n",
    "                        text1 = \"Lebih kecil \" + str(abs(delta_nilai)) + \"%\" + \" dari nilai rerata tahun sebelumnya\"\n",
    "                        hasil.append(text1)\n",
    "                    elif delta_nilai > 0:\n",
    "                        text2 = \"Lebih besar \" + str(delta_nilai) + \"%\" + \" dari nilai rerata tahun sebelumnya\"\n",
    "                        hasil.append(text2)\n",
    "                    else:\n",
    "                        text3 = \"Sama dengan nilai rerata tahun sebelumnya\"\n",
    "                        hasil.append(text3)\n",
    "\n",
    "\n",
    "        else: #Pilihan 2\n",
    "            for j in np.arange(len(dic_univ)):\n",
    "                if dic_siswa[h]['Pilihan Universitas Kedua'] == dic_univ[j]['Universitas'] and dic_siswa[h]['Pilihan Program Studi Kedua'] == dic_univ[j]['Prodi']:\n",
    "                    delta_nilai = round((dic_siswa[h]['Skor'] - dic_univ[j]['Nilai Rata-Rata UTBK'])*100/dic_univ[j]['Nilai Rata-Rata UTBK'], 2)\n",
    "                    hasil.append(dic_univ[j]['Universitas'])\n",
    "                    hasil.append(dic_univ[j]['Prodi'])\n",
    "                    hasil.append(round(dic_univ[j]['Nilai Rata-Rata UTBK'], 2))\n",
    "\n",
    "                    if delta_nilai < 0:\n",
    "                        text1 = \"Lebih kecil \" + str(abs(delta_nilai)) + \"%\" + \" dari nilai rerata tahun sebelumnya\"\n",
    "                        hasil.append(text1)\n",
    "                    elif delta_nilai > 0:\n",
    "                        text2 = \"Lebih besar \" + str(delta_nilai) + \"%\" + \" dari nilai rerata tahun sebelumnya\"\n",
    "                        hasil.append(text2)\n",
    "                    else:\n",
    "                        text3 = \"Sama dengan nilai rerata tahun sebelumnya\"\n",
    "                        hasil.append(text3)\n",
    "\n",
    "    with open(nama_file_keluaran, 'a', newline = '') as file:\n",
    "        writer = csv.writer(file)\n",
    "        writer.writerow(hasil)\n",
    "\n",
    "file.close()"
   ]
  }
 ],
 "metadata": {
  "kernelspec": {
   "display_name": "Python 3",
   "language": "python",
   "name": "python3"
  },
  "language_info": {
   "codemirror_mode": {
    "name": "ipython",
    "version": 3
   },
   "file_extension": ".py",
   "mimetype": "text/x-python",
   "name": "python",
   "nbconvert_exporter": "python",
   "pygments_lexer": "ipython3",
   "version": "3.11.5"
  }
 },
 "nbformat": 4,
 "nbformat_minor": 2
}
