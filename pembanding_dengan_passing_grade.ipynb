{
 "cells": [
  {
   "cell_type": "markdown",
   "metadata": {},
   "source": [
    "##### Program untuk membandingkan nilai UTBK dengan perkiraan nilai passing grade"
   ]
  },
  {
   "cell_type": "markdown",
   "metadata": {},
   "source": [
    "##### A. Mutable Part"
   ]
  },
  {
   "cell_type": "code",
   "execution_count": 12,
   "metadata": {},
   "outputs": [],
   "source": [
    "#Library\n",
    "import numpy as np\n",
    "import pandas as pd\n",
    "import mpu.pd\n",
    "import csv\n",
    "\n",
    "#===============================================================================================================================================================================================================================================================================================================================================\n",
    "\n",
    "#DATA SISWA\n",
    "#Input database siswa dengan nama file Data_Siswa_with_header.csv\n",
    "#Bagian ini dapat diubah tergantung nama filenya (selama format file csv)\n",
    "#Header(nama kolom) csv: Nama Siswa, Pilihan Universitas Pertama, Pilihan Program Studi Pertama, Pilihan Universitas Kedua, Pilihan Program Studi Kedua, Skor \n",
    "df_siswa = pd.read_csv('Data_Siswa_with_header.csv', delimiter = ',')\n",
    "\n",
    "#Mengubah data pada csv menjadi list of dictionary dalam python\n",
    "dic_siswa = df_siswa.to_dict('records')\n",
    "\n",
    "#Menambahkan key persentase skor ke data siswa\n",
    "for i in np.arange(len(dic_siswa)):\n",
    "    dic_siswa[i]['Persentase Skor'] = round(dic_siswa[i]['Skor']*0.1, 2) #0.1 = 100/1000\n",
    "\n",
    "#DATA UNIVERSITAS\n",
    "#Input database universitas dengan nama file Data_Univ_2_with_header.csv\n",
    "#Bagian ini dapat diubah tergantung nama filenya (selama format file csv)\n",
    "#Header(nama kolom) csv: Universitas, Program Studi, Passing Grade (persen)\n",
    "df_univ = pd.read_csv('Database_passing_grade_mari_kuliah.csv', delimiter = ',')\n",
    "\n",
    "#Mengubah data csv menjadi list of dictionary dalam python\n",
    "dic_univ = df_univ.to_dict('records')\n",
    "\n",
    "#OUTPUT\n",
    "#Membuat file Hasil_Final.csv untuk menampung hasil pengolahan data\n",
    "#Nama file dapat diubah sesuai keinginan maupun kebutuhan\n",
    "nama_file_keluaran = 'Hasil_Final.csv'\n",
    "with open(nama_file_keluaran, 'w', newline = '') as file:\n",
    "    writer = csv.writer(file)\n",
    "    writer.writerow([\"Nama Siswa\", \"Persentase Skor\", \"Pilihan Universitas Pertama\", \"Pilihan Program Studi Pertama\", \"Nilai Passing Grade\", \"Perbandingan dengan Nilai Anda\", \"Pilihan Universitas Kedua\", \"Pilihan Program Studi Kedua\", \"Nilai Passing Grade\", \"Perbandingan dengan Nilai Anda\"])\n"
   ]
  },
  {
   "cell_type": "markdown",
   "metadata": {},
   "source": [
    "##### B. Immutable Part"
   ]
  },
  {
   "cell_type": "code",
   "execution_count": 13,
   "metadata": {},
   "outputs": [],
   "source": [
    "#Pengecekan pilihan universitas dan program studi\n",
    "\n",
    "for h in np.arange(len(dic_siswa)):\n",
    "    hasil = []\n",
    "    for i in np.arange(2): #Terdapat 2 buah pilihan\n",
    "        if i == 0: #Pilihan 1\n",
    "            for j in np.arange(len(dic_univ)):\n",
    "                if dic_siswa[h]['Pilihan Universitas Pertama'] == dic_univ[j]['Universitas'] and dic_siswa[h]['Pilihan Program Studi Pertama'] == dic_univ[j]['Program Studi']:\n",
    "                    hasil.append(dic_siswa[h]['Nama Siswa'])\n",
    "                    hasil.append(dic_siswa[h]['Persentase Skor'])\n",
    "                    hasil.append(dic_univ[j]['Universitas'])\n",
    "                    hasil.append(dic_univ[j]['Program Studi'])\n",
    "                    hasil.append(dic_univ[j]['Passing Grade (persen)'])\n",
    "\n",
    "                    if dic_siswa[i]['Persentase Skor'] >= dic_univ[j]['Passing Grade (persen)']:\n",
    "                        hasil.append('Memenuhi passing grade')\n",
    "                    else:\n",
    "                        hasil.append('Tidak memenuhi passing grade')\n",
    "        else: #Pilihan 2\n",
    "            for j in np.arange(len(dic_univ)):\n",
    "                if dic_siswa[h]['Pilihan Universitas Kedua'] == dic_univ[j]['Universitas'] and dic_siswa[h]['Pilihan Program Studi Kedua'] == dic_univ[j]['Program Studi']:\n",
    "                    #print(i,j,dic_siswa[i]['Nama Siswa'], dic_siswa[i]['Persentase Nilai'], dic_univ[j]['Universitas'], dic_univ[j]['Program Studi'], dic_univ[j]['Passing Grade (persen)'])\n",
    "                    hasil.append(dic_univ[j]['Universitas'])\n",
    "                    hasil.append(dic_univ[j]['Program Studi'])\n",
    "                    hasil.append(dic_univ[j]['Passing Grade (persen)'])\n",
    "\n",
    "                    if dic_siswa[i]['Persentase Skor'] >= dic_univ[j]['Passing Grade (persen)']:\n",
    "                        hasil.append('Memenuhi passing grade')\n",
    "                    else:\n",
    "                        hasil.append('Tidak memenuhi passing grade')\n",
    "\n",
    "    #print(hasil)\n",
    "    with open(nama_file_keluaran, 'a', newline = '') as file:\n",
    "        writer = csv.writer(file)\n",
    "        writer.writerow(hasil)\n",
    "\n",
    "file.close()"
   ]
  }
 ],
 "metadata": {
  "kernelspec": {
   "display_name": "Python 3",
   "language": "python",
   "name": "python3"
  },
  "language_info": {
   "codemirror_mode": {
    "name": "ipython",
    "version": 3
   },
   "file_extension": ".py",
   "mimetype": "text/x-python",
   "name": "python",
   "nbconvert_exporter": "python",
   "pygments_lexer": "ipython3",
   "version": "3.11.5"
  }
 },
 "nbformat": 4,
 "nbformat_minor": 2
}
